{
  "nbformat": 4,
  "nbformat_minor": 0,
  "metadata": {
    "colab": {
      "provenance": [],
      "authorship_tag": "ABX9TyOLgdej5lAHCkG0bEh6gaom",
      "include_colab_link": true
    },
    "kernelspec": {
      "name": "python3",
      "display_name": "Python 3"
    },
    "language_info": {
      "name": "python"
    }
  },
  "cells": [
    {
      "cell_type": "markdown",
      "metadata": {
        "id": "view-in-github",
        "colab_type": "text"
      },
      "source": [
        "<a href=\"https://colab.research.google.com/github/godolias15/Data_Sceince/blob/main/Question%20%231.ipynb\" target=\"_parent\"><img src=\"https://colab.research.google.com/assets/colab-badge.svg\" alt=\"Open In Colab\"/></a>"
      ]
    },
    {
      "cell_type": "markdown",
      "source": [
        "a dictionary is unordered collection of key value pairs, keys must be unique(eg. strings, numbers), and they're accessed by key not index. use case is sorting properties(eg. user profile)\n"
      ],
      "metadata": {
        "id": "FL84wPfxgOzp"
      }
    },
    {
      "cell_type": "code",
      "source": [
        "#this is an example of dictionary\n",
        "person = {\"name\" : \"abebe\", \"age\" : \"19\", \"city\": \"adama\"}\n",
        "pritn(person[\"city\"]) #output adama\n"
      ],
      "metadata": {
        "id": "nbO8wd7jg-bG"
      },
      "execution_count": null,
      "outputs": []
    },
    {
      "cell_type": "markdown",
      "source": [
        "List is ordered mutable changable collection of items , can hold mixed data type(numbers strings) its accessed by index.and an example use case is sorting a sequece of items(eg todo list)\n"
      ],
      "metadata": {
        "id": "CYvYmmKoec6G"
      }
    },
    {
      "cell_type": "code",
      "source": [
        "#this is an example of a list\n",
        "fruits = [\"banana\", \"apple\", 42, True]\n",
        "print[fruits[1]] #output banana"
      ],
      "metadata": {
        "id": "Aj5qLqykhWrP"
      },
      "execution_count": null,
      "outputs": []
    },
    {
      "cell_type": "markdown",
      "source": [],
      "metadata": {
        "id": "t_l-ER2ChaPb"
      }
    },
    {
      "cell_type": "markdown",
      "source": [
        "a numpy array has a fixed size, its homogeneous(same data type) array for numerical computing , its optimized for math operations(eg matrix). and requires numpy library."
      ],
      "metadata": {
        "id": "3SSwCctyjM3w"
      }
    },
    {
      "cell_type": "code",
      "source": [
        "import numpy as np\n",
        "numbers = np.array([1, 2, 3, 4])  # All elements must be same type (e.g., int)\n",
        "print(numbers * 2)  # Output: [2 4 6 8] (vectorized operation)"
      ],
      "metadata": {
        "id": "WdniQKpWj07g"
      },
      "execution_count": null,
      "outputs": []
    }
  ]
}