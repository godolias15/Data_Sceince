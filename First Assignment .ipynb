{
  "nbformat": 4,
  "nbformat_minor": 0,
  "metadata": {
    "colab": {
      "provenance": [],
      "authorship_tag": "ABX9TyMewzsxeWq3L5e9wGTv2PFL",
      "include_colab_link": true
    },
    "kernelspec": {
      "name": "python3",
      "display_name": "Python 3"
    },
    "language_info": {
      "name": "python"
    }
  },
  "cells": [
    {
      "cell_type": "markdown",
      "metadata": {
        "id": "view-in-github",
        "colab_type": "text"
      },
      "source": [
        "<a href=\"https://colab.research.google.com/github/godolias15/Data_Sceince/blob/main/First%20Assignment%20.ipynb\" target=\"_parent\"><img src=\"https://colab.research.google.com/assets/colab-badge.svg\" alt=\"Open In Colab\"/></a>"
      ]
    },
    {
      "cell_type": "markdown",
      "source": [
        "a dictionary is unordered collection of key value pairs, keys must be unique(eg. strings, numbers), and they're accessed by key not index. use case is sorting properties(eg. user profile)\n"
      ],
      "metadata": {
        "id": "FL84wPfxgOzp"
      }
    },
    {
      "cell_type": "code",
      "source": [
        "#this is an example of dictionary\n",
        "person = {\"name\" : \"abebe\", \"age\" : \"19\", \"city\": \"adama\"}\n",
        "pritn(person[\"city\"]) #output adama\n"
      ],
      "metadata": {
        "id": "nbO8wd7jg-bG"
      },
      "execution_count": null,
      "outputs": []
    },
    {
      "cell_type": "markdown",
      "source": [
        "List is ordered mutable changable collection of items , can hold mixed data type(numbers strings) its accessed by index.and an example use case is sorting a sequece of items(eg todo list)\n"
      ],
      "metadata": {
        "id": "CYvYmmKoec6G"
      }
    },
    {
      "cell_type": "code",
      "source": [
        "#this is an example of a list\n",
        "fruits = [\"banana\", \"apple\", 42, True]\n",
        "print[fruits[1]] #output banana"
      ],
      "metadata": {
        "id": "Aj5qLqykhWrP"
      },
      "execution_count": null,
      "outputs": []
    },
    {
      "cell_type": "markdown",
      "source": [
        "a numpy array has a fixed size, its homogeneous(same data type) array for numerical computing , its optimized for math operations(eg matrix). and requires numpy library."
      ],
      "metadata": {
        "id": "3SSwCctyjM3w"
      }
    },
    {
      "cell_type": "code",
      "source": [
        "import numpy as np\n",
        "numbers = np.array([1, 2, 3, 4])  # All elements must be same type (e.g., int)\n",
        "print(numbers * 2)  # Output: [2 4 6 8] (vectorized operation)"
      ],
      "metadata": {
        "id": "WdniQKpWj07g"
      },
      "execution_count": null,
      "outputs": []
    },
    {
      "cell_type": "markdown",
      "source": [
        "2.Given the list [10, 15, 20, 25, 30], write a function that returns the square of only even numbers"
      ],
      "metadata": {
        "id": "8IfweJTVmTOU"
      }
    },
    {
      "cell_type": "code",
      "source": [
        "def square(numbers):\n",
        "  return[x**2 for x in number if x%2 == 0]\n",
        "\n",
        "\n",
        "#example use\n",
        "numbers = [10,15,20,25,30]\n",
        "result = square(numbers)\n",
        "print(result) #output [100, 400 , 900]"
      ],
      "metadata": {
        "id": "IhZBDvVKmd2X"
      },
      "execution_count": null,
      "outputs": []
    },
    {
      "cell_type": "markdown",
      "source": [
        "3.What does the following code output, and why?![Screenshot 2025-04-12 230810.png](data:image/png;base64,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)"
      ],
      "metadata": {
        "id": "4cTdA_YOnRLA"
      }
    },
    {
      "cell_type": "markdown",
      "source": [
        "the code outputs [1,2,3,4}\n",
        "y=x dosnt create a copy, both x and y reference the same list object in memory.  and y.append(4) modifies this shared list. print(x) shows the updated list because x and y are aliases for the same object."
      ],
      "metadata": {
        "id": "SkGJCyFyoMzp"
      }
    },
    {
      "cell_type": "markdown",
      "source": [
        "4. What does .shape and .describe() tell you about a pandas DataFrame? Show using an example."
      ],
      "metadata": {
        "id": "U_pi4YkXqkFQ"
      }
    },
    {
      "cell_type": "markdown",
      "source": [
        ".shape returns a tuple showing the dimensions of the Data frame(rows,columns). use case is to quicly check how much data you're working with.\n",
        "\n",
        "while .describe generates descriptive stastics for numeric columns. count mean, standard deviation, min, max, quartiles(25%, 50%, 75%). use case is to summerize data distribution. i dont have experince with panda but i did my research on the internet and i've come with the next code as an example."
      ],
      "metadata": {
        "id": "sciihAmerpCe"
      }
    },
    {
      "cell_type": "code",
      "source": [
        "import pandas as pd\n",
        "\n",
        "# Create a sample DataFrame\n",
        "data = {\n",
        "    'Age': [25, 30, 35, 40, 45],\n",
        "    'Salary': [50000, 60000, 70000, 80000, 90000]\n",
        "}\n",
        "df = pd.DataFrame(data)\n",
        "\n",
        "# Check dimensions\n",
        "print(\"Shape:\", df.shape)  # Output: (5, 2) → 5 rows, 2 columns\n",
        "\n",
        "# Generate statistics\n",
        "print(\"\\nDescriptive Statistics:\")\n",
        "print(df.describe())\n",
        "\n",
        "#output\n",
        "'''\n",
        "Shape: (5, 2)\n",
        "\n",
        "Descriptive Statistics:\n",
        "             Age        Salary\n",
        "count   5.000000      5.000000\n",
        "mean   35.000000  70000.000000\n",
        "std     7.905694  15811.388300\n",
        "min    25.000000  50000.000000\n",
        "25%    30.000000  60000.000000\n",
        "50%    35.000000  70000.000000\n",
        "75%    40.000000  80000.000000\n",
        "max    45.000000  90000.000000\n",
        "'''"
      ],
      "metadata": {
        "id": "VI6Aovhps3yC"
      },
      "execution_count": null,
      "outputs": []
    },
    {
      "cell_type": "markdown",
      "source": [
        "5. Load this CSV: airtravel.csv\n",
        "Print the first 5 rows\n",
        "What do you notice about the data?"
      ],
      "metadata": {
        "id": "ukkAQTuHtBNW"
      }
    },
    {
      "cell_type": "code",
      "source": [
        "import pandas as pd\n",
        "\n",
        "# Load the CSV data\n",
        "url = \"https://people.sc.fsu.edu/~jburkardt/data/csv/airtravel.csv\"\n",
        "df = pd.read_csv(url)\n",
        "\n",
        "# Print first 5 rows\n",
        "print(\"First 5 rows:\")\n",
        "print(df.head().to_markdown(index=False, numalign=\"left\", stralign=\"left\"))\n",
        "\n",
        "#output\n",
        "'''\n",
        "First 5 rows:\n",
        "| Month   | 1958   | 1959   | 1960   |\n",
        "|:--------|:-------|:-------|:-------|\n",
        "| JAN     | 340    | 360    | 417    |\n",
        "| FEB     | 318    | 342    | 391    |\n",
        "| MAR     | 362    | 406    | 419    |\n",
        "| APR     | 348    | 396    | 461    |\n",
        "| MAY     | 363    | 420    | 472    |"
      ],
      "metadata": {
        "id": "SCydHaLB4ucZ"
      },
      "execution_count": null,
      "outputs": []
    },
    {
      "cell_type": "markdown",
      "source": [
        "the first thing i noticed was the column formatting, column headers are wrappe in quotes. monthly data shows airtravel stastics for each month january to december.\n",
        "Seasonal Pattern: Lower numbers in winter (e.g., FEB 1958: 318), higher in summer\n",
        "\n",
        "Yearly Growth: Values increase year-over-year (e.g., MAY: 363 to 420 to 472)\n",
        "\n",
        " No missing values in first 5 rows,\n",
        "\n",
        " Wide format with years as columns rather than rows"
      ],
      "metadata": {
        "id": "ssq35Rau431h"
      }
    },
    {
      "cell_type": "markdown",
      "source": [
        ".6.Load the CSV from Q5 and find:\n",
        "  The month with the highest total passengers\n",
        "  The month with the lowest in 1958"
      ],
      "metadata": {
        "id": "rkezy5SYtOsZ"
      }
    },
    {
      "cell_type": "code",
      "source": [
        "import pandas as pd\n",
        "\n",
        "# Load and clean the data\n",
        "url = \"https://people.sc.fsu.edu/~jburkardt/data/csv/airtravel.csv\"\n",
        "df = pd.read_csv(url)\n",
        "df.columns = df.columns.str.replace('\"', '').str.strip()  # Clean column names\n",
        "\n",
        "df['Total'] = df['1958'] + df['1959'] + df['1960']\n",
        "\n",
        "\n",
        "max_total_month = df.loc[df['Total'].idxmax(), 'Month']\n",
        "\n",
        "\n",
        "min_1958_month = df.loc[df['1958'].idxmin(), 'Month']\n",
        "\n",
        "print(f\"Month with highest total passengers: {max_total_month}\")\n",
        "print(f\"Month with lowest passengers in 1958: {min_1958_month}\")\n",
        "\n",
        "#output\n",
        "'''\n",
        "Month with highest total passengers: JUL\n",
        "Month with lowest passengers in 1958: FEB\n",
        "'''"
      ],
      "metadata": {
        "id": "K__NfRqY541n"
      },
      "execution_count": null,
      "outputs": []
    },
    {
      "cell_type": "markdown",
      "source": [
        "Month with Highest Total Passengers is  july\n",
        "\n",
        "Total passengers (1958–1960): 505 (1960) + 491 (1959) + 460 (1958) = 1,456\n",
        "\n",
        " Summer months (july/augest) consistently have the highest travel volume.\n",
        "\n",
        "Month with Lowest Passengers in 1958 is february\n",
        "\n",
        "Passengers were  318\n",
        "\n",
        "the reason was because February typically has fewer travelers due to weather and shorter days."
      ],
      "metadata": {
        "id": "yGcXnRvf6KPM"
      }
    },
    {
      "cell_type": "markdown",
      "source": [
        "7.  What does the .groupby() function do in pandas? Show an example using dummy data."
      ],
      "metadata": {
        "id": "GYn7VeWLvjj7"
      }
    },
    {
      "cell_type": "markdown",
      "source": [
        ".groupby() is used to split data into groups based on a specific column, allowing you to prefrom aggregations(eg. sum, mean , count) on each group.\n",
        "key steps include:\n",
        "split: the data is divided into groups\n",
        "apply: a function(sum(), mean()) is applied to each group.\n",
        "combine: results are merged into a new dataFrame. an example is presented as follows:"
      ],
      "metadata": {
        "id": "_b_aE2BjvsET"
      }
    },
    {
      "cell_type": "code",
      "source": [
        "import pandas as pd\n",
        "\n",
        "# Create dummy sales data\n",
        "data = {\n",
        "    'Region': ['East', 'West', 'East', 'West', 'East', 'West'],\n",
        "    'Category': ['Electronics', 'Clothing', 'Electronics', 'Clothing', 'Electronics', 'Clothing'],\n",
        "    'Sales': [1000, 500, 1500, 700, 1200, 600]\n",
        "}\n",
        "df = pd.DataFrame(data)\n",
        "\n",
        "# Group by 'Region' and calculate total sales per region\n",
        "grouped = df.groupby('Region')['Sales'].sum()\n",
        "print(\"Total sales by region:\")\n",
        "print(grouped)\n",
        "\n",
        "\n",
        "#output\n",
        "'''\n",
        "Total sales by region:\n",
        "Region\n",
        "East    3700\n",
        "West    1800\n",
        "Name: Sales, dtype: int64\n",
        "'''\n",
        "\n"
      ],
      "metadata": {
        "id": "opgxcMrTwhi4"
      },
      "execution_count": null,
      "outputs": []
    },
    {
      "cell_type": "markdown",
      "source": [
        "8. Load the Titanic dataset from seaborn and:\n",
        "\n",
        "  Count how many missing values are in each column  "
      ],
      "metadata": {
        "id": "ZDVfJxDRw0kp"
      }
    },
    {
      "cell_type": "code",
      "source": [
        "import seaborn as sns\n",
        "\n",
        "# Load the Titanic dataset\n",
        "titanic = sns.load_dataset('titanic')\n",
        "\n",
        "# Count missing values per column\n",
        "missing_values = titanic.isnull().sum()\n",
        "\n",
        "print(\"Missing values per column:\")\n",
        "print(missing_values)\n",
        "\n",
        "#output\n",
        "'''\n",
        "Missing values per column:\n",
        "survived         0\n",
        "pclass           0\n",
        "sex              0\n",
        "age            177\n",
        "sibsp            0\n",
        "parch            0\n",
        "fare             0\n",
        "embarked         2\n",
        "class            0\n",
        "who              0\n",
        "adult_male       0\n",
        "deck           688\n",
        "embark_town      2\n",
        "alive            0\n",
        "alone            0\n",
        "dtype: int64\n",
        "'''\n"
      ],
      "metadata": {
        "id": "L9s7GZ24w2A0"
      },
      "execution_count": null,
      "outputs": []
    },
    {
      "cell_type": "markdown",
      "source": [
        "age has 177 missing values,\n",
        "deck has 688 missing values,\n",
        "embarked and embark_town each have 2 missing values.\n",
        "all other columns are complete."
      ],
      "metadata": {
        "id": "e3fqI1fZxMJ4"
      }
    },
    {
      "cell_type": "markdown",
      "source": [
        "9.  Use df[\"Age\"].hist() to visualize the age distribution.\n",
        "What shape do you see\n",
        "\n",
        "What might be the reason for the skew?"
      ],
      "metadata": {
        "id": "UD8Ib8RLxMAp"
      }
    },
    {
      "cell_type": "code",
      "source": [
        "import seaborn as sns\n",
        "import matplotlib.pyplot as plt\n",
        "\n",
        "# Load the dataset\n",
        "titanic = sns.load_dataset('titanic')\n",
        "\n",
        "# Plot histogram of 'Age'\n",
        "titanic['Age'].hist(bins=20, edgecolor='black')\n",
        "plt.title('Age Distribution of Titanic Passengers')\n",
        "plt.xlabel('Age')\n",
        "plt.ylabel('Count')\n",
        "plt.show()"
      ],
      "metadata": {
        "id": "E7h_fka8yOII"
      },
      "execution_count": null,
      "outputs": []
    },
    {
      "cell_type": "markdown",
      "source": [
        "observed shape is a right skewed distribution. most passengers are concentrated in the 20-40 age range. fewer passengers in old age groups(tail extends to the right)\n",
        "\n",
        "what might be the reason for the skew:\n",
        "demographic travelers. the titanic carrie many working-age adults(immigrants, laborers and middle class travelers)\n",
        "few elderly passengers due to travel limitations in 1912.\n",
        "\n",
        "and the other reason is data collection issues. missing age values(177/891) could distort the distribution."
      ],
      "metadata": {
        "id": "GO0vgNz1yQTi"
      }
    },
    {
      "cell_type": "markdown",
      "source": [
        "10. What does it mean if a column has a high standard deviation?\n",
        "\n",
        "  Create a list or column that has a low and a high std. dev, and compare.  "
      ],
      "metadata": {
        "id": "ekczVLRizo_i"
      }
    },
    {
      "cell_type": "markdown",
      "source": [
        "A high standard deviation indicates that the data points in a column are spread out widely from the mean (average). This means there is significant variability or diversity in the values. Conversely, a low standard deviation means the data points are clustered closely around the mean."
      ],
      "metadata": {
        "id": "9JypMBz90ExO"
      }
    },
    {
      "cell_type": "markdown",
      "source": [
        "1. Column with Low Standard Deviation"
      ],
      "metadata": {
        "id": "54BYMl-E1Ivd"
      }
    },
    {
      "cell_type": "code",
      "source": [
        "import pandas as pd\n",
        "\n",
        "# Data with values close to the mean (little variability)\n",
        "low_std_data = [9, 10, 11, 10, 9]\n",
        "low_std_series = pd.Series(low_std_data)\n",
        "\n",
        "print(\"Low Std. Dev. Data:\", low_std_series.tolist())\n",
        "print(\"Mean:\", low_std_series.mean())       # Output: 9.8\n",
        "print(\"Std. Dev:\", low_std_series.std())    # Output: ~0.84"
      ],
      "metadata": {
        "id": "jwiq3RJB1Lj0"
      },
      "execution_count": null,
      "outputs": []
    },
    {
      "cell_type": "markdown",
      "source": [
        "2. Column with High Standard Deviation"
      ],
      "metadata": {
        "id": "QMe0g90y1NRG"
      }
    },
    {
      "cell_type": "code",
      "source": [
        "# Data with values spread far from the mean (high variability)\n",
        "high_std_data = [1, 50, 100, 50, 1]\n",
        "high_std_series = pd.Series(high_std_data)\n",
        "\n",
        "print(\"\\nHigh Std. Dev. Data:\", high_std_series.tolist())\n",
        "print(\"Mean:\", high_std_series.mean())      # Output: 40.4\n",
        "print(\"Std. Dev:\", high_std_series.std())   # Output: ~41.36"
      ],
      "metadata": {
        "id": "lukugzTE1P9x"
      },
      "execution_count": null,
      "outputs": []
    },
    {
      "cell_type": "markdown",
      "source": [
        "11.What are some real-world problems where missing data might affect results? Give 2 examples."
      ],
      "metadata": {
        "id": "OcKW8_rv1chl"
      }
    },
    {
      "cell_type": "markdown",
      "source": [
        "1.Healthcare: Clinical Trials\n",
        "\n",
        " Missing data from patient dropouts or unreported side effects in clinical trials.\n",
        "\n",
        "whats the impact?\n",
        "\n",
        "Bias in Results: If patients experiencing adverse effects leave the trial and their data is excluded, the drug’s safety profile appears better than it truly is.\n",
        "\n",
        "Example: A trial for a new antidepressant excludes data from participants who discontinued due to severe nausea. This omission could lead regulators to underestimate risks, potentially endangering future patients.\n",
        "\n",
        "\n",
        "2.Finance: Credit Scoring\n",
        "\n",
        " Missing credit history data (e.g., unreported loans, gaps in repayment records).\n",
        "\n",
        "what's the impact?\n",
        "\n",
        "Inaccurate Risk Assessment: Credit models might misclassify borrowers, approving high-risk individuals or denying creditworthy applicants.\n",
        "\n",
        "Example: A lender uses incomplete data to deny a loan to someone with sporadic credit activity (e.g., freelancers), despite their reliable income, perpetuating financial exclusion.\n"
      ],
      "metadata": {
        "id": "7oYMAFaS2Fmm"
      }
    }
  ]
}